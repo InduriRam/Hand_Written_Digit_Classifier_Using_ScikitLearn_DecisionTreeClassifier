{
 "cells": [
  {
   "cell_type": "code",
   "execution_count": 11,
   "metadata": {},
   "outputs": [
    {
     "name": "stderr",
     "output_type": "stream",
     "text": [
      "C:\\Users\\pc\\Anaconda3\\lib\\site-packages\\ipykernel_launcher.py:6: FutureWarning: Method .as_matrix will be removed in a future version. Use .values instead.\n",
      "  \n"
     ]
    },
    {
     "name": "stdout",
     "output_type": "stream",
     "text": [
      "[0]\n"
     ]
    },
    {
     "data": {
      "image/png": "[encoded data removed]",
      "text/plain": [
       "<Figure size 432x288 with 1 Axes>"
      ]
     },
     "metadata": {
      "needs_background": "light"
     },
     "output_type": "display_data"
    },
    {
     "name": "stdout",
     "output_type": "stream",
     "text": [
      "measuring accuracy\n",
      "accuracy =  85.35\n"
     ]
    }
   ],
   "source": [
    "import numpy as np\n",
    "import matplotlib.pyplot as plt \n",
    "import pandas as pd\n",
    "from sklearn.tree import DecisionTreeClassifier\n",
    "\n",
    "data = pd.read_csv(\"train.csv\").as_matrix() #loading train data as numpy array\n",
    "clf=DecisionTreeClassifier()\n",
    "#List of features and corresponding levels As Inputs.\n",
    "\n",
    "xtrain=data[0:40000,1:]\n",
    "train_label= data[0:40000,0]\n",
    "clf.fit(xtrain,train_label)\n",
    "\n",
    "#testing data\n",
    "xtest=data[40000:,1:]\n",
    "actual_label = data[40000:,0]\n",
    "\n",
    "d=xtest[8]\n",
    "d.shape=(28,28) #converting image pixels into 28x28 pixel image\n",
    "plt.imshow(255-d,cmap='gray') #255-d to convert black to hite and white to black\n",
    "print(clf.predict([xtest[8]])) #predicting the element\n",
    "plt.show() #Displaying the image to see if the prediction is same as  actual number\n",
    "print(\"measuring accuracy\")\n",
    "p=clf.predict(xtest)\n",
    "count  =0\n",
    "for i in range(0,2000):\n",
    "\tcount+=1 if p[i] == actual_label[i] else 0\n",
    "print(\"accuracy = \",count*100/2000)\n",
    " \n"
   ]
  },
  {
   "cell_type": "code",
   "execution_count": null,
   "metadata": {},
   "outputs": [],
   "source": []
  }
 ],
 "metadata": {
  "kernelspec": {
   "display_name": "Python 3",
   "language": "python",
   "name": "python3"
  },
  "language_info": {
   "codemirror_mode": {
    "name": "ipython",
    "version": 3
   },
   "file_extension": ".py",
   "mimetype": "text/x-python",
   "name": "python",
   "nbconvert_exporter": "python",
   "pygments_lexer": "ipython3",
   "version": "3.7.0"
  }
 },
 "nbformat": 4,
 "nbformat_minor": 2
}
